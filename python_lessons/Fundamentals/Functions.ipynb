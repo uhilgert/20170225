{
 "cells": [
  {
   "cell_type": "markdown",
   "metadata": {
    "collapsed": true,
    "deletable": true,
    "editable": true
   },
   "source": [
    "# Functions\n",
    "Functions in Python are like mathematical functions.\n",
    "A function will take some values, do something to them or with them, and return something.\n",
    "Python functions can take any combination of data types and data structures\n",
    "and return a single value that can be any data type or data structure"
   ]
  },
  {
   "cell_type": "markdown",
   "metadata": {
    "deletable": true,
    "editable": true
   },
   "source": [
    "_Don't forget, to run a cell use the keys Shift+Enter_"
   ]
  },
  {
   "cell_type": "code",
   "execution_count": 13,
   "metadata": {
    "collapsed": true,
    "deletable": true,
    "editable": true
   },
   "outputs": [],
   "source": [
    "# a simple function that looks like a mathematical function\n",
    "# define a function called add_two_numbers that take 2 arguments: num1 and num2\n",
    "def add_two_numbers(num1, num2):\n",
    "    # Under the def must be indented\n",
    "    return num1 + num2 # use the return statment to tell the function what to return"
   ]
  },
  {
   "cell_type": "markdown",
   "metadata": {
    "deletable": true,
    "editable": true
   },
   "source": [
    "Use return ... to give a value back to the caller. A function that doesn’t explicitly return a value automatically returns None.\n",
    "\n",
    "Defining a function does not run it. You must call the function to execute the code it contains."
   ]
  },
  {
   "cell_type": "code",
   "execution_count": 14,
   "metadata": {
    "collapsed": false,
    "deletable": true,
    "editable": true
   },
   "outputs": [
    {
     "data": {
      "text/plain": [
       "995"
      ]
     },
     "execution_count": 14,
     "metadata": {},
     "output_type": "execute_result"
    }
   ],
   "source": [
    "add_two_numbers(905, 90)"
   ]
  },
  {
   "cell_type": "code",
   "execution_count": 15,
   "metadata": {
    "collapsed": false,
    "deletable": true,
    "editable": true
   },
   "outputs": [
    {
     "name": "stdout",
     "output_type": "stream",
     "text": [
      "995\n",
      "995\n"
     ]
    }
   ],
   "source": [
    "# written a different way\n",
    "# define a function called add_two_numbers that take 2 arguments: num1 and num2\n",
    "def add_two_numbers(num1, num2): \n",
    "    total = num1 + num2 # do the stuff\n",
    "    # This is the body of the function\n",
    "    return total # use the return statment to tell the function what to return\n",
    "\n",
    "result = add_two_numbers(905, 90)\n",
    "print(result)\n",
    "print(add_two_numbers(905, 90))"
   ]
  },
  {
   "cell_type": "markdown",
   "metadata": {
    "deletable": true,
    "editable": true
   },
   "source": [
    "### Question 00"
   ]
  },
  {
   "cell_type": "markdown",
   "metadata": {
    "deletable": true,
    "editable": true
   },
   "source": [
    "What does the following program print? (Don't actually code, just think about it.)\n",
    "```\n",
    "def report(pressure):\n",
    "    print(‘pressure is: ’, pressure)\n",
    "\n",
    "report(22.5)\n",
    "```"
   ]
  },
  {
   "cell_type": "code",
   "execution_count": 16,
   "metadata": {
    "collapsed": false
   },
   "outputs": [],
   "source": [
    "def report(pressure):\n",
    "    print(\"pressure is: \", pressure)"
   ]
  },
  {
   "cell_type": "code",
   "execution_count": 17,
   "metadata": {
    "collapsed": false
   },
   "outputs": [
    {
     "name": "stdout",
     "output_type": "stream",
     "text": [
      "pressure is:  22.5\n"
     ]
    }
   ],
   "source": [
    "report(22.5)"
   ]
  },
  {
   "cell_type": "markdown",
   "metadata": {
    "deletable": true,
    "editable": true
   },
   "source": [
    "### Practice 00"
   ]
  },
  {
   "cell_type": "code",
   "execution_count": 18,
   "metadata": {
    "collapsed": false
   },
   "outputs": [
    {
     "ename": "SyntaxError",
     "evalue": "invalid character in identifier (<ipython-input-18-bb03e7cae83a>, line 2)",
     "output_type": "error",
     "traceback": [
      "\u001b[0;36m  File \u001b[0;32m\"<ipython-input-18-bb03e7cae83a>\"\u001b[0;36m, line \u001b[0;32m2\u001b[0m\n\u001b[0;31m    print(‘pressure is: ’, pressure)\u001b[0m\n\u001b[0m                  ^\u001b[0m\n\u001b[0;31mSyntaxError\u001b[0m\u001b[0;31m:\u001b[0m invalid character in identifier\n"
     ]
    }
   ],
   "source": [
    "def report(pressure):\n",
    "    print(‘pressure is: ’, pressure)\n",
    "\n",
    "report(22.5)"
   ]
  },
  {
   "cell_type": "markdown",
   "metadata": {
    "deletable": true,
    "editable": true
   },
   "source": [
    "“Adding” two strings produces their concatenation: 'a' + 'b' is 'ab'. Write a function called quote that takes two parameters called original and wrapper and returns a new string that has the wrapper character at the beginning and end of the original. \n",
    "\n",
    "A call to your function should look like this:\n",
    "```\n",
    "print(quote('name', '\"'))\n",
    "\"name\"\n",
    "```"
   ]
  },
  {
   "cell_type": "code",
   "execution_count": null,
   "metadata": {
    "collapsed": true,
    "deletable": true,
    "editable": true
   },
   "outputs": [],
   "source": [
    "def quote(original,wrapper):  # write your function here\n",
    "    return (wrapper+original+wrapper)    "
   ]
  },
  {
   "cell_type": "code",
   "execution_count": null,
   "metadata": {
    "collapsed": false,
    "deletable": true,
    "editable": true,
    "scrolled": true
   },
   "outputs": [],
   "source": [
    "# Run this cell after defining your function\n",
    "print(quote('name', '\"'))"
   ]
  },
  {
   "cell_type": "markdown",
   "metadata": {
    "deletable": true,
    "editable": true
   },
   "source": [
    "### Practice 01"
   ]
  },
  {
   "cell_type": "markdown",
   "metadata": {
    "deletable": true,
    "editable": true
   },
   "source": [
    "If the variable s refers to a string, then s[0] is the string’s first character and s[-1] is its last. Write a function called outer that returns a string made up of just the first and last characters of its input. \n",
    "\n",
    "A call to your function should look like this:\n",
    "```\n",
    "print(outer('helium'))\n",
    "hm\n",
    "```"
   ]
  },
  {
   "cell_type": "code",
   "execution_count": null,
   "metadata": {
    "collapsed": false,
    "deletable": true,
    "editable": true
   },
   "outputs": [],
   "source": [
    "def outer(my_string): # write your function \"outer\" here with input\"my_string\"\n",
    "    return my_string[0]+my_string[-1]"
   ]
  },
  {
   "cell_type": "code",
   "execution_count": null,
   "metadata": {
    "collapsed": false,
    "deletable": true,
    "editable": true
   },
   "outputs": [],
   "source": [
    "# Run this cell after defining your function\n",
    "print(outer('globus'))"
   ]
  },
  {
   "cell_type": "markdown",
   "metadata": {
    "deletable": true,
    "editable": true
   },
   "source": [
    "### Question 01"
   ]
  },
  {
   "cell_type": "markdown",
   "metadata": {
    "deletable": true,
    "editable": true
   },
   "source": [
    "Explain why the two lines of output appeared in the order they did.\n",
    "```\n",
    "def print_date(year, month, day):\n",
    "    joined = str(year) + '/' + str(month) + '/' + str(day)\n",
    "    print(joined)\n",
    "\n",
    "result = print_date(1871, 3, 19)\n",
    "print('result of call is:', result)\n",
    "```\n",
    "OUTPUT:\n",
    "\n",
    "1871/3/19 result of call is: None"
   ]
  },
  {
   "cell_type": "code",
   "execution_count": null,
   "metadata": {
    "collapsed": false
   },
   "outputs": [],
   "source": [
    "def print_date(year, month, day):\n",
    "    joined = str(year) + '/' + str(month) + '/' + str(day)\n",
    "    return(joined)   # need to return stuff to be store it\n",
    "\n",
    "result = print_date(1871, 3, 19)\n",
    "print('result of call is:', result)"
   ]
  },
  {
   "cell_type": "markdown",
   "metadata": {
    "deletable": true,
    "editable": true
   },
   "source": [
    "# COMMIT YOUR WORK\n",
    "Everytime you finish a function, you should commit your work."
   ]
  },
  {
   "cell_type": "markdown",
   "metadata": {
    "deletable": true,
    "editable": true
   },
   "source": [
    "## Why Use Functions?\n",
    "Functions let us break down our programs into smaller bits that can be reused and tested\n",
    "* Human beings can only keep a few items in working memory at a time.\n",
    "* Understand larger/more complicated ideas by understanding and combining pieces.\n",
    "    * Components in a machine.\n",
    "* Functions serve the same purpose in programs.\n",
    "    * Encapsulate complexity so that we can treat it as a single “thing”.\n",
    "* Also enables re-use.\n",
    "    * Write one time, use many times."
   ]
  },
  {
   "cell_type": "markdown",
   "metadata": {
    "collapsed": true,
    "deletable": true,
    "editable": true
   },
   "source": [
    "### Reusability\n",
    "Imagine a really big program with lots of lines of code.\n",
    "There is a section of code you want to use in a different part of the program.\n",
    "\n",
    "How do you reuse that part of the code?\n",
    "\n",
    "If you just have one big program then you have to copy and paste that bit of code where you want it to go, but if that bit was a function, you could just use that function\n",
    "\n",
    "\n",
    "Always keep both of these concepts in mind when writing programs.\n",
    "Try to write small functions that do one thing\n",
    "Your programs should be composed of lots of functions that do one thing\n",
    "Never have one giant function that does a million things."
   ]
  },
  {
   "cell_type": "markdown",
   "metadata": {
    "deletable": true,
    "editable": true
   },
   "source": [
    "## Our Problem\n",
    "**Last month we ran an experiment in the lab, but one of the windows was left open.**\n",
    "\n",
    "**If the temperature in the lab fell below 285 degrees Kelvin all of the data is ruined.**\n",
    "\n",
    "**Luckily a data logger was running, but unfortunately it only collects the temperature in Fahrenheit.**\n",
    "\n",
    "_Why is the time in a different format? To avoid difficulties during class with having to teach datetime stuff._\n",
    "\n",
    "**Example log data:**\n",
    "\n",
    "```\n",
    "beginTime,Temp\n",
    "42736.00,54\n",
    "42736.04,11.7\n",
    "42736.08,11.7\n",
    "```"
   ]
  },
  {
   "cell_type": "markdown",
   "metadata": {
    "deletable": true,
    "editable": true
   },
   "source": [
    "Write a function that converts temperatures from Fahrenheit to Kelvin. ((temp_f - 32) * (5/9)) + 273.15"
   ]
  },
  {
   "cell_type": "code",
   "execution_count": null,
   "metadata": {
    "collapsed": false,
    "deletable": true,
    "editable": true
   },
   "outputs": [],
   "source": [
    "def fahr_to_kelvin(temp_f):\n",
    "    return(temp_f - 32) * (5/9) + 273.5 # write your function here\n",
    "\n",
    "print(fahr_to_kelvin(32))"
   ]
  },
  {
   "cell_type": "markdown",
   "metadata": {
    "deletable": true,
    "editable": true
   },
   "source": [
    "##### COMMIT YOUR WORK"
   ]
  },
  {
   "cell_type": "markdown",
   "metadata": {
    "deletable": true,
    "editable": true
   },
   "source": [
    "### Documentation\n",
    "Along with the concept of resusability is documenation.\n",
    "\n",
    "While python is easy to read and follow, you will either need to share\n",
    "your code with others or you will forget what you did.\n",
    "\n",
    "You should strive to always add a sentance or two description of what the function does, as well as providing one or two examples."
   ]
  },
  {
   "cell_type": "code",
   "execution_count": null,
   "metadata": {
    "collapsed": false,
    "deletable": true,
    "editable": true,
    "scrolled": true
   },
   "outputs": [],
   "source": [
    "help(fahr_to_kelvin)"
   ]
  },
  {
   "cell_type": "markdown",
   "metadata": {
    "deletable": true,
    "editable": true
   },
   "source": [
    "Another way"
   ]
  },
  {
   "cell_type": "code",
   "execution_count": null,
   "metadata": {
    "collapsed": false,
    "deletable": true,
    "editable": true
   },
   "outputs": [],
   "source": [
    "fahr_to_kelvin?"
   ]
  },
  {
   "cell_type": "markdown",
   "metadata": {
    "deletable": true,
    "editable": true
   },
   "source": [
    "Another way"
   ]
  },
  {
   "cell_type": "code",
   "execution_count": null,
   "metadata": {
    "collapsed": false,
    "deletable": true,
    "editable": true
   },
   "outputs": [],
   "source": [
    "round(#put your cursor and use the keys Shift+tab"
   ]
  },
  {
   "cell_type": "markdown",
   "metadata": {
    "deletable": true,
    "editable": true
   },
   "source": [
    "Adding documentation to your own code is simple and easy.\n",
    "\n",
    "Immediately after defining the function add a documenation block with triple-quotes (''')\n",
    "```\n",
    "def add_two_numbers(num1, num2):\n",
    "    '''\n",
    "    This is where to put documentation\n",
    "    Return the sum of two numbers\n",
    "    Example:\n",
    "    >>> add_two_numbers(4, 19)\n",
    "    23\n",
    "    >>> add_two_numbers(-1, 5)\n",
    "    4\n",
    "    '''\n",
    "    return num1 + num2\n",
    "```\n",
    "Add documentation to your function fahr_to_kelvin."
   ]
  },
  {
   "cell_type": "code",
   "execution_count": null,
   "metadata": {
    "collapsed": false
   },
   "outputs": [],
   "source": [
    "def fahr_to_kelvin(temp_f): # Copy the function from above here, but this time add documentation\n",
    "    '''\n",
    "    EXPLANATION GOES HERE\n",
    "    What does this do?\n",
    "    Give some examples.\n",
    "    '''\n",
    "    return(temp_f - 32) * (5/9) + 273.5 # write your function here\n",
    "\n",
    "print(fahr_to_kelvin(32))"
   ]
  },
  {
   "cell_type": "code",
   "execution_count": null,
   "metadata": {
    "collapsed": false,
    "deletable": true,
    "editable": true
   },
   "outputs": [],
   "source": [
    "# Run this cell after adding documentation\n",
    "help(fahr_to_kelvin)"
   ]
  },
  {
   "cell_type": "markdown",
   "metadata": {
    "deletable": true,
    "editable": true
   },
   "source": [
    "##### COMMIT YOUR WORK"
   ]
  },
  {
   "cell_type": "code",
   "execution_count": null,
   "metadata": {
    "collapsed": false
   },
   "outputs": [],
   "source": [
    "help(fahr_to_kelvin)"
   ]
  },
  {
   "cell_type": "code",
   "execution_count": null,
   "metadata": {
    "collapsed": true
   },
   "outputs": [],
   "source": [
    "def fahr_to_kelvin"
   ]
  },
  {
   "cell_type": "markdown",
   "metadata": {
    "deletable": true,
    "editable": true
   },
   "source": [
    "**We read the packaging on the materials wrong! If the temperature in the lab fell below -5 degrees Celsius all of the data is ruined.**\n",
    "\n",
    "Write a function that converts temperatures from Kelvin into Celsius. temp_k - 273.15"
   ]
  },
  {
   "cell_type": "code",
   "execution_count": null,
   "metadata": {
    "collapsed": false,
    "deletable": true,
    "editable": true
   },
   "outputs": [],
   "source": [
    "def kelvin_to_celsius(temp_k): # write your function here\n",
    "    '''\n",
    "    EXPLANATION\n",
    "    '''\n",
    "    return (temp_k - 273.15)\n",
    "\n",
    "print(kelvin_to_celsius(273.15))\n",
    "print(kelvin_to_celsius(300))"
   ]
  },
  {
   "cell_type": "code",
   "execution_count": null,
   "metadata": {
    "collapsed": false,
    "deletable": true,
    "editable": true
   },
   "outputs": [],
   "source": [
    "# Did you add documentation?\n",
    "help(kelvin_to_celsius)"
   ]
  },
  {
   "cell_type": "markdown",
   "metadata": {
    "collapsed": true,
    "deletable": true,
    "editable": true
   },
   "source": [
    "##### COMMIT YOUR WORK"
   ]
  },
  {
   "cell_type": "markdown",
   "metadata": {
    "collapsed": true,
    "deletable": true,
    "editable": true
   },
   "source": [
    "**Because we know issues like this happen all of the time, let's prepare for the inevitability.**\n",
    "\n",
    "Write a function to convert Fahrenheit to Celsius, **without a formula**.\n",
    "\n",
    "We could write out the formula, but we don’t need to. Instead, we can compose the two functions we have already created"
   ]
  },
  {
   "cell_type": "code",
   "execution_count": null,
   "metadata": {
    "collapsed": false,
    "deletable": true,
    "editable": true
   },
   "outputs": [],
   "source": [
    "def fahr_to_celsius(temp_f): # write your function here\n",
    "    '''\n",
    "    given Fahrenheit returns T in Celsius\n",
    "    '''\n",
    "    temp_k = fahr_to_kelvin(temp_f)\n",
    "    temp_c = kelvin_to_celsius(temp_k)\n",
    "    return round(temp_c)\n",
    "\n",
    "fahr_to_celsius(-40)"
   ]
  },
  {
   "cell_type": "markdown",
   "metadata": {
    "deletable": true,
    "editable": true
   },
   "source": [
    "This is our first taste of how larger programs are built: we define basic operations, then combine them in ever-larger chunks to get the effect we want. Real-life functions will usually be larger than the ones shown here — typically half a dozen to a few dozen lines — but they shouldn’t ever be much longer than that, or the next person who reads it won’t be able to understand what’s going on."
   ]
  },
  {
   "cell_type": "markdown",
   "metadata": {
    "collapsed": false,
    "deletable": true,
    "editable": true
   },
   "source": [
    "Did you write documenation?\n",
    "##### COMMIT YOUR WORK"
   ]
  },
  {
   "cell_type": "markdown",
   "metadata": {
    "collapsed": true,
    "deletable": true,
    "editable": true
   },
   "source": [
    "### Arguments in call are matched to parameters in definition.\n",
    "* Functions are most useful when they can operate on different data.\n",
    "* Specify parameters when defining a function.\n",
    "    * These become variables when the function is executed.\n",
    "    * Are assigned the arguments in the call (i.e., the values passed to the function)."
   ]
  },
  {
   "cell_type": "markdown",
   "metadata": {
    "deletable": true,
    "editable": true
   },
   "source": [
    "### Default Values\n",
    "If we usually want a function to work one way, but occasionally need it to do something else, we can allow people to pass a parameter when they need to but provide a default to make the normal case easier."
   ]
  },
  {
   "cell_type": "code",
   "execution_count": null,
   "metadata": {
    "collapsed": true,
    "deletable": true,
    "editable": true
   },
   "outputs": [],
   "source": [
    "def display(a=1, b=2, c=3):\n",
    "    print('a:', a, 'b:', b, 'c:', c)\n",
    "\n",
    "print('no parameters:')\n",
    "display()\n",
    "print('one parameter:')\n",
    "display(55)\n",
    "print('two parameters:')\n",
    "display(55, 66)"
   ]
  },
  {
   "cell_type": "markdown",
   "metadata": {
    "deletable": true,
    "editable": true
   },
   "source": [
    "As this example shows, parameters are matched up from left to right, and any that haven’t been given a value explicitly get their default value. We can override this behavior by naming the value as we pass it in:"
   ]
  },
  {
   "cell_type": "code",
   "execution_count": null,
   "metadata": {
    "collapsed": true,
    "deletable": true,
    "editable": true
   },
   "outputs": [],
   "source": [
    "print('only setting the value of c')\n",
    "display(c=77)"
   ]
  },
  {
   "cell_type": "markdown",
   "metadata": {
    "deletable": true,
    "editable": true
   },
   "source": [
    "**It looks like the logger actually can collect Celsius after all! Unfortunately the logger forgets what temperature type to log and has been intermittently logging both Celsius and Fahrenheit. And we have material that can not have a temperature greater than 80 degrees Fahrenheit!**\n",
    "\n",
    "**Example log data:**\n",
    "```\n",
    "beginTime,Temp,TempType\n",
    "42736.00,54,F\n",
    "42736.04,11.7,C\n",
    "42736.08,11.7,C\n",
    "```"
   ]
  },
  {
   "cell_type": "markdown",
   "metadata": {
    "deletable": true,
    "editable": true
   },
   "source": [
    "First, write a function to convert from Celsius to Fahrenheit. (9/5) * temp_c + 32"
   ]
  },
  {
   "cell_type": "code",
   "execution_count": null,
   "metadata": {
    "collapsed": false,
    "deletable": true,
    "editable": true
   },
   "outputs": [],
   "source": [
    "def celsius_to_fahr(temp_c): # write your function here\n",
    "    '''\n",
    "    given celsius convert to fahrenheit\n",
    "    '''\n",
    "    return round(((9/5) * temp_c) + 32)\n",
    "\n",
    "celsius_to_fahr(100)"
   ]
  },
  {
   "cell_type": "markdown",
   "metadata": {
    "deletable": true,
    "editable": true
   },
   "source": [
    "##### COMMIT YOUR WORK"
   ]
  },
  {
   "cell_type": "markdown",
   "metadata": {
    "deletable": true,
    "editable": true
   },
   "source": [
    "Now, write a function that either converts to fahrenheit or celsius based on a parameter, with a default assuming fahrenheit ('F')\n",
    "\n",
    "Remember if/else:"
   ]
  },
  {
   "cell_type": "code",
   "execution_count": 69,
   "metadata": {
    "collapsed": false,
    "deletable": true,
    "editable": true
   },
   "outputs": [],
   "source": [
    "def convert_temp(temp, temp_type='F'):\n",
    "    # write your documentation here\n",
    "    '''\n",
    "    Documentation/Explain\n",
    "    '''\n",
    "    # write your function here\n",
    "    if temp_type == \"F\":\n",
    "        print(\"converting Fahrenheit to Celsius\")\n",
    "        out = fahr_to_celsius(temp)\n",
    "    elif temp_type == \"C\":\n",
    "        print(\"converting Celsius to Fahrenheit\")\n",
    "        out = celsius_to_fahr(temp)\n",
    "#         out = out.str() + \"F\"\n",
    "    else:\n",
    "        out = \"ERROR\"\n",
    "        print(\"temp_type not recognized\")\n",
    "\n",
    "    return out"
   ]
  },
  {
   "cell_type": "markdown",
   "metadata": {
    "deletable": true,
    "editable": true
   },
   "source": [
    "##### COMMIT YOUR WORK"
   ]
  },
  {
   "cell_type": "code",
   "execution_count": 73,
   "metadata": {
    "collapsed": false,
    "scrolled": true
   },
   "outputs": [
    {
     "name": "stdout",
     "output_type": "stream",
     "text": [
      "converting Celsius to Fahrenheit\n",
      "32 F\n"
     ]
    }
   ],
   "source": [
    "print(str(convert_temp(0, \"C\")) + \" F\")"
   ]
  },
  {
   "cell_type": "code",
   "execution_count": 81,
   "metadata": {
    "collapsed": false
   },
   "outputs": [
    {
     "name": "stdout",
     "output_type": "stream",
     "text": [
      "converting Fahrenheit to Celsius\n",
      "-17 C\n"
     ]
    }
   ],
   "source": [
    "print(str(convert_temp(0, \"F\")) + \" C\")"
   ]
  },
  {
   "cell_type": "markdown",
   "metadata": {
    "deletable": true,
    "editable": true
   },
   "source": [
    "### Testability\n",
    "Imagine a really big program with lots of lines of code.  \n",
    "There is a problem somewhere in the code because you are not getting the results you expect\n",
    "\n",
    "How do you find the problem in your code?\n",
    "\n",
    "If your program is composed of lots of small functions that only do one thing then you can test each function individually.\n",
    "\n",
    "The full concept is beyond our workshop today, but it is simple enough, here is an example.\n",
    "\n",
    "Do your functions always work? What errors do you get? Can you change your functions to address those errors?\n",
    "\n",
    "_Hint: You can edit your functions above and then re-run the cell to update the function._"
   ]
  },
  {
   "cell_type": "code",
   "execution_count": null,
   "metadata": {
    "collapsed": true,
    "deletable": true,
    "editable": true
   },
   "outputs": [],
   "source": [
    "# Run this cell after writing convert_temp\n",
    "test_1_result = convert_temp(-40.0, 'F')\n",
    "assert(test_1_result, -40.0)\n",
    "\n",
    "test_2_result = convert_temp(0.0, 'C')\n",
    "assert(test_2_result, 32.0)\n",
    "\n",
    "test_3_result = convert_temp(32.0, 'F')\n",
    "assert(test_3_result, 0.0)\n",
    "\n",
    "test_4_result = convert_temp(54.0)\n",
    "assert(test_4_result, 12.2)\n",
    "\n",
    "test_5_result = convert_temp(12.2, 'C')\n",
    "assert(test_5_result, 54.0)\n",
    "\n",
    "# Did you handle strings instead of float?\n",
    "test_6_result = convert_temp('12.2', 'C')\n",
    "assert(test_6_result, 54.0)"
   ]
  },
  {
   "cell_type": "markdown",
   "metadata": {
    "collapsed": true,
    "deletable": true,
    "editable": true
   },
   "source": [
    "##### COMMIT YOUR WORK"
   ]
  },
  {
   "cell_type": "markdown",
   "metadata": {
    "deletable": true,
    "editable": true
   },
   "source": [
    "Let's load the logger data.\n",
    "\n",
    "Below is a function that loads a file and loops over each line. \n",
    "\n",
    "Adjust the function to convert the temperature, and saves the temp to the right list.\n",
    "\n",
    "_Hint: You can add items to a list with append()_"
   ]
  },
  {
   "cell_type": "code",
   "execution_count": 74,
   "metadata": {
    "collapsed": true,
    "deletable": true,
    "editable": true
   },
   "outputs": [],
   "source": [
    "import csv"
   ]
  },
  {
   "cell_type": "code",
   "execution_count": null,
   "metadata": {
    "collapsed": false
   },
   "outputs": [],
   "source": []
  },
  {
   "cell_type": "code",
   "execution_count": 89,
   "metadata": {
    "collapsed": false,
    "deletable": true,
    "editable": true,
    "scrolled": true
   },
   "outputs": [
    {
     "name": "stdout",
     "output_type": "stream",
     "text": [
      "THIS IS THE ROW:  ['beginTime', 'Temp', 'TempType']\n",
      "THIS IS THE ROW:  ['42736.00', '54', 'F']\n",
      "54 F\n",
      "converting Fahrenheit to Celsius\n",
      "13\n",
      "THIS IS THE ROW:  ['42736.04', '11.7', 'C']\n",
      "11.7 C\n",
      "converting Celsius to Fahrenheit\n",
      "53\n",
      "THIS IS THE ROW:  ['42736.08', '11.7', 'C']\n",
      "11.7 C\n",
      "converting Celsius to Fahrenheit\n",
      "53\n",
      "THIS IS THE ROW:  ['42736.13', '12.2', 'C']\n",
      "12.2 C\n",
      "converting Celsius to Fahrenheit\n",
      "54\n",
      "THIS IS THE ROW:  ['42736.17', '12.8', 'C']\n",
      "12.8 C\n",
      "converting Celsius to Fahrenheit\n",
      "55\n",
      "THIS IS THE ROW:  ['42736.21', '55', 'F']\n",
      "55 F\n",
      "converting Fahrenheit to Celsius\n",
      "13\n",
      "THIS IS THE ROW:  ['42736.25', '55', 'F']\n",
      "55 F\n",
      "converting Fahrenheit to Celsius\n",
      "13\n",
      "THIS IS THE ROW:  ['42736.29', '11.7', 'C']\n",
      "11.7 C\n",
      "converting Celsius to Fahrenheit\n",
      "53\n",
      "THIS IS THE ROW:  ['42736.33', '11.7', 'C']\n",
      "11.7 C\n",
      "converting Celsius to Fahrenheit\n",
      "53\n",
      "THIS IS THE ROW:  ['42736.38', '53.1', 'F']\n",
      "53.1 F\n",
      "converting Fahrenheit to Celsius\n",
      "12\n",
      "THIS IS THE ROW:  ['42736.42', '45', 'F']\n",
      "45 F\n",
      "converting Fahrenheit to Celsius\n",
      "8\n",
      "THIS IS THE ROW:  ['42736.46', '7.2', 'C']\n",
      "7.2 C\n",
      "converting Celsius to Fahrenheit\n",
      "45\n",
      "THIS IS THE ROW:  ['42736.50', '46', 'F']\n",
      "46 F\n",
      "converting Fahrenheit to Celsius\n",
      "8\n",
      "THIS IS THE ROW:  ['42736.54', '46.9', 'F']\n",
      "46.9 F\n",
      "converting Fahrenheit to Celsius\n",
      "9\n",
      "THIS IS THE ROW:  ['42736.58', '10', 'C']\n",
      "10 C\n",
      "converting Celsius to Fahrenheit\n",
      "50\n",
      "THIS IS THE ROW:  ['42736.63', '10.6', 'C']\n",
      "10.6 C\n",
      "converting Celsius to Fahrenheit\n",
      "51\n",
      "THIS IS THE ROW:  ['42736.67', '10', 'C']\n",
      "10 C\n",
      "converting Celsius to Fahrenheit\n",
      "50\n",
      "THIS IS THE ROW:  ['42736.71', '48.9', 'F']\n",
      "48.9 F\n",
      "converting Fahrenheit to Celsius\n",
      "10\n",
      "THIS IS THE ROW:  ['42736.75', '48.9', 'F']\n",
      "48.9 F\n",
      "converting Fahrenheit to Celsius\n",
      "10\n",
      "THIS IS THE ROW:  ['42736.79', '9.4', 'C']\n",
      "9.4 C\n",
      "converting Celsius to Fahrenheit\n",
      "49\n",
      "THIS IS THE ROW:  ['42736.83', '8.3', 'C']\n",
      "8.3 C\n",
      "converting Celsius to Fahrenheit\n",
      "47\n",
      "THIS IS THE ROW:  ['42736.88', '7.8', 'C']\n",
      "7.8 C\n",
      "converting Celsius to Fahrenheit\n",
      "46\n",
      "THIS IS THE ROW:  ['42736.92', '7.2', 'C']\n",
      "7.2 C\n",
      "converting Celsius to Fahrenheit\n",
      "45\n",
      "THIS IS THE ROW:  ['42736.96', '44.1', 'F']\n",
      "44.1 F\n",
      "converting Fahrenheit to Celsius\n",
      "7\n",
      "THIS IS THE ROW:  ['42737.00', '43', 'F']\n",
      "43 F\n",
      "converting Fahrenheit to Celsius\n",
      "6\n",
      "THIS IS THE ROW:  ['42737.04', '43', 'F']\n",
      "43 F\n",
      "converting Fahrenheit to Celsius\n",
      "6\n",
      "THIS IS THE ROW:  ['42737.08', '6.1', 'C']\n",
      "6.1 C\n",
      "converting Celsius to Fahrenheit\n",
      "43\n",
      "THIS IS THE ROW:  ['42737.13', '5.6', 'C']\n",
      "5.6 C\n",
      "converting Celsius to Fahrenheit\n",
      "42\n",
      "THIS IS THE ROW:  ['42737.17', '42.1', 'F']\n",
      "42.1 F\n",
      "converting Fahrenheit to Celsius\n",
      "6\n",
      "THIS IS THE ROW:  ['42737.21', '2.8', 'C']\n",
      "2.8 C\n",
      "converting Celsius to Fahrenheit\n",
      "37\n",
      "THIS IS THE ROW:  ['42737.25', '3.3', 'C']\n",
      "3.3 C\n",
      "converting Celsius to Fahrenheit\n",
      "38\n",
      "THIS IS THE ROW:  ['42737.29', '3.9', 'C']\n",
      "3.9 C\n",
      "converting Celsius to Fahrenheit\n",
      "39\n",
      "THIS IS THE ROW:  ['42737.33', '6.1', 'C']\n",
      "6.1 C\n",
      "converting Celsius to Fahrenheit\n",
      "43\n",
      "THIS IS THE ROW:  ['42737.38', '7.8', 'C']\n",
      "7.8 C\n",
      "converting Celsius to Fahrenheit\n",
      "46\n",
      "THIS IS THE ROW:  ['42737.42', '48', 'F']\n",
      "48 F\n",
      "converting Fahrenheit to Celsius\n",
      "9\n",
      "THIS IS THE ROW:  ['42737.46', '10.6', 'C']\n",
      "10.6 C\n",
      "converting Celsius to Fahrenheit\n",
      "51\n",
      "THIS IS THE ROW:  ['42737.50', '12.8', 'C']\n",
      "12.8 C\n",
      "converting Celsius to Fahrenheit\n",
      "55\n",
      "THIS IS THE ROW:  ['42737.54', '55', 'F']\n",
      "55 F\n",
      "converting Fahrenheit to Celsius\n",
      "13\n",
      "THIS IS THE ROW:  ['42737.58', '55.9', 'F']\n",
      "55.9 F\n",
      "converting Fahrenheit to Celsius\n",
      "14\n",
      "THIS IS THE ROW:  ['42737.63', '55.9', 'F']\n",
      "55.9 F\n",
      "converting Fahrenheit to Celsius\n",
      "14\n",
      "THIS IS THE ROW:  ['42737.67', '12.8', 'C']\n",
      "12.8 C\n",
      "converting Celsius to Fahrenheit\n",
      "55\n",
      "THIS IS THE ROW:  ['42737.71', '11.7', 'C']\n",
      "11.7 C\n",
      "converting Celsius to Fahrenheit\n",
      "53\n",
      "THIS IS THE ROW:  ['42737.75', '10.6', 'C']\n",
      "10.6 C\n",
      "converting Celsius to Fahrenheit\n",
      "51\n",
      "THIS IS THE ROW:  ['42737.79', '50', 'F']\n",
      "50 F\n",
      "converting Fahrenheit to Celsius\n",
      "10\n",
      "THIS IS THE ROW:  ['42737.83', '51.1', 'F']\n",
      "51.1 F\n",
      "converting Fahrenheit to Celsius\n",
      "11\n",
      "THIS IS THE ROW:  ['42737.88', '48', 'F']\n",
      "48 F\n",
      "converting Fahrenheit to Celsius\n",
      "9\n",
      "THIS IS THE ROW:  ['42737.92', '48', 'F']\n",
      "48 F\n",
      "converting Fahrenheit to Celsius\n",
      "9\n",
      "THIS IS THE ROW:  ['42737.96', '7.8', 'C']\n",
      "7.8 C\n",
      "converting Celsius to Fahrenheit\n",
      "46\n",
      "THIS IS THE ROW:  ['42738.00', '45', 'F']\n",
      "45 F\n",
      "converting Fahrenheit to Celsius\n",
      "8\n",
      "THIS IS THE ROW:  ['42738.04', '44.1', 'F']\n",
      "44.1 F\n",
      "converting Fahrenheit to Celsius\n",
      "7\n",
      "THIS IS THE ROW:  ['42738.08', '41', 'F']\n",
      "41 F\n",
      "converting Fahrenheit to Celsius\n",
      "5\n",
      "THIS IS THE ROW:  ['42738.13', '39.9', 'F']\n",
      "39.9 F\n",
      "converting Fahrenheit to Celsius\n",
      "5\n",
      "THIS IS THE ROW:  ['42738.17', '5', 'C']\n",
      "5 C\n",
      "converting Celsius to Fahrenheit\n",
      "41\n",
      "THIS IS THE ROW:  ['42738.21', '39.9', 'F']\n",
      "39.9 F\n",
      "converting Fahrenheit to Celsius\n",
      "5\n",
      "THIS IS THE ROW:  ['42738.25', '39.9', 'F']\n",
      "39.9 F\n",
      "converting Fahrenheit to Celsius\n",
      "5\n",
      "THIS IS THE ROW:  ['42738.29', '4.4', 'C']\n",
      "4.4 C\n",
      "converting Celsius to Fahrenheit\n",
      "40\n",
      "THIS IS THE ROW:  ['42738.33', '43', 'F']\n",
      "43 F\n",
      "converting Fahrenheit to Celsius\n",
      "6\n",
      "THIS IS THE ROW:  ['42738.38', '10', 'C']\n",
      "10 C\n",
      "converting Celsius to Fahrenheit\n",
      "50\n",
      "THIS IS THE ROW:  ['42738.42', '11.7', 'C']\n",
      "11.7 C\n",
      "converting Celsius to Fahrenheit\n",
      "53\n",
      "THIS IS THE ROW:  ['42738.46', '55.9', 'F']\n",
      "55.9 F\n",
      "converting Fahrenheit to Celsius\n",
      "14\n",
      "THIS IS THE ROW:  ['42738.50', '59', 'F']\n",
      "59 F\n",
      "converting Fahrenheit to Celsius\n",
      "15\n",
      "THIS IS THE ROW:  ['42738.54', '17.2', 'C']\n",
      "17.2 C\n",
      "converting Celsius to Fahrenheit\n",
      "63\n",
      "THIS IS THE ROW:  ['42738.58', '17.2', 'C']\n",
      "17.2 C\n",
      "converting Celsius to Fahrenheit\n",
      "63\n",
      "THIS IS THE ROW:  ['42738.63', '63', 'F']\n",
      "63 F\n",
      "converting Fahrenheit to Celsius\n",
      "18\n",
      "THIS IS THE ROW:  ['42738.67', '16.7', 'C']\n",
      "16.7 C\n",
      "converting Celsius to Fahrenheit\n",
      "62\n",
      "THIS IS THE ROW:  ['42738.71', '60.1', 'F']\n",
      "60.1 F\n",
      "converting Fahrenheit to Celsius\n",
      "16\n",
      "THIS IS THE ROW:  ['42738.75', '57.9', 'F']\n",
      "57.9 F\n",
      "converting Fahrenheit to Celsius\n",
      "15\n",
      "THIS IS THE ROW:  ['42738.79', '13.9', 'C']\n",
      "13.9 C\n",
      "converting Celsius to Fahrenheit\n",
      "57\n",
      "THIS IS THE ROW:  ['42738.83', '13.9', 'C']\n",
      "13.9 C\n",
      "converting Celsius to Fahrenheit\n",
      "57\n",
      "THIS IS THE ROW:  ['42738.88', '54', 'F']\n",
      "54 F\n",
      "converting Fahrenheit to Celsius\n",
      "13\n",
      "THIS IS THE ROW:  ['42738.92', '53.1', 'F']\n",
      "53.1 F\n",
      "converting Fahrenheit to Celsius\n",
      "12\n",
      "THIS IS THE ROW:  ['42738.96', '53.1', 'F']\n",
      "53.1 F\n",
      "converting Fahrenheit to Celsius\n",
      "12\n",
      "THIS IS THE ROW:  ['42739.00', '10.6', 'C']\n",
      "10.6 C\n",
      "converting Celsius to Fahrenheit\n",
      "51\n",
      "THIS IS THE ROW:  ['42739.04', '50', 'F']\n",
      "50 F\n",
      "converting Fahrenheit to Celsius\n",
      "10\n",
      "THIS IS THE ROW:  ['42739.08', '11.1', 'C']\n",
      "11.1 C\n",
      "converting Celsius to Fahrenheit\n",
      "52\n",
      "THIS IS THE ROW:  ['42739.13', '48.9', 'F']\n",
      "48.9 F\n",
      "converting Fahrenheit to Celsius\n",
      "10\n",
      "THIS IS THE ROW:  ['42739.17', '8.9', 'C']\n",
      "8.9 C\n",
      "converting Celsius to Fahrenheit\n",
      "48\n",
      "THIS IS THE ROW:  ['42739.21', '7.8', 'C']\n",
      "7.8 C\n",
      "converting Celsius to Fahrenheit\n",
      "46\n",
      "THIS IS THE ROW:  ['42739.25', '44.1', 'F']\n",
      "44.1 F\n",
      "converting Fahrenheit to Celsius\n",
      "7\n",
      "THIS IS THE ROW:  ['42739.29', '7.2', 'C']\n",
      "7.2 C\n",
      "converting Celsius to Fahrenheit\n",
      "45\n",
      "THIS IS THE ROW:  ['42739.33', '48', 'F']\n",
      "48 F\n",
      "converting Fahrenheit to Celsius\n",
      "9\n",
      "THIS IS THE ROW:  ['42739.38', '12.2', 'C']\n",
      "12.2 C\n",
      "converting Celsius to Fahrenheit\n",
      "54\n",
      "THIS IS THE ROW:  ['42739.42', '13.9', 'C']\n",
      "13.9 C\n",
      "converting Celsius to Fahrenheit\n",
      "57\n",
      "THIS IS THE ROW:  ['42739.46', '16.7', 'C']\n",
      "16.7 C\n",
      "converting Celsius to Fahrenheit\n",
      "62\n",
      "THIS IS THE ROW:  ['42739.50', '66', 'F']\n",
      "66 F\n",
      "converting Fahrenheit to Celsius\n",
      "19\n",
      "THIS IS THE ROW:  ['42739.54', '19.4', 'C']\n",
      "19.4 C\n",
      "converting Celsius to Fahrenheit\n",
      "67\n",
      "THIS IS THE ROW:  ['42739.58', '20', 'C']\n",
      "20 C\n",
      "converting Celsius to Fahrenheit\n",
      "68\n",
      "THIS IS THE ROW:  ['42739.63', '69.1', 'F']\n",
      "69.1 F\n",
      "converting Fahrenheit to Celsius\n",
      "21\n",
      "THIS IS THE ROW:  ['42739.67', '18.9', 'C']\n",
      "18.9 C\n",
      "converting Celsius to Fahrenheit\n",
      "66\n",
      "THIS IS THE ROW:  ['42739.71', '16.1', 'C']\n",
      "16.1 C\n",
      "converting Celsius to Fahrenheit\n",
      "61\n",
      "THIS IS THE ROW:  ['42739.75', '15', 'C']\n",
      "15 C\n",
      "converting Celsius to Fahrenheit\n",
      "59\n",
      "THIS IS THE ROW:  ['42739.79', '12.2', 'C']\n",
      "12.2 C\n",
      "converting Celsius to Fahrenheit\n",
      "54\n",
      "THIS IS THE ROW:  ['42739.83', '52', 'F']\n",
      "52 F\n",
      "converting Fahrenheit to Celsius\n",
      "11\n",
      "THIS IS THE ROW:  ['42739.88', '50', 'F']\n",
      "50 F\n",
      "converting Fahrenheit to Celsius\n",
      "10\n",
      "THIS IS THE ROW:  ['42739.92', '48.9', 'F']\n",
      "48.9 F\n",
      "converting Fahrenheit to Celsius\n",
      "10\n",
      "THIS IS THE ROW:  ['42739.96', '9.4', 'C']\n",
      "9.4 C\n",
      "converting Celsius to Fahrenheit\n",
      "49\n",
      "THIS IS THE ROW:  ['42740.00', '46.9', 'F']\n",
      "46.9 F\n",
      "converting Fahrenheit to Celsius\n",
      "9\n",
      "THIS IS THE ROW:  ['42740.04', '46.9', 'F']\n",
      "46.9 F\n",
      "converting Fahrenheit to Celsius\n",
      "9\n",
      "THIS IS THE ROW:  ['42740.08', '7.8', 'C']\n",
      "7.8 C\n",
      "converting Celsius to Fahrenheit\n",
      "46\n",
      "THIS IS THE ROW:  ['42740.13', '8.3', 'C']\n",
      "8.3 C\n",
      "converting Celsius to Fahrenheit\n",
      "47\n",
      "THIS IS THE ROW:  ['42740.17', '45', 'F']\n",
      "45 F\n",
      "converting Fahrenheit to Celsius\n",
      "8\n",
      "THIS IS THE ROW:  ['42740.21', '44.1', 'F']\n",
      "44.1 F\n",
      "converting Fahrenheit to Celsius\n",
      "7\n",
      "THIS IS THE ROW:  ['42740.25', '7.2', 'C']\n",
      "7.2 C\n",
      "converting Celsius to Fahrenheit\n",
      "45\n",
      "THIS IS THE ROW:  ['42740.29', '7.8', 'C']\n",
      "7.8 C\n",
      "converting Celsius to Fahrenheit\n",
      "46\n",
      "THIS IS THE ROW:  ['42740.33', '8.9', 'C']\n",
      "8.9 C\n",
      "converting Celsius to Fahrenheit\n",
      "48\n",
      "THIS IS THE ROW:  ['42740.38', '11.7', 'C']\n",
      "11.7 C\n",
      "converting Celsius to Fahrenheit\n",
      "53\n",
      "THIS IS THE ROW:  ['42740.42', '57.9', 'F']\n",
      "57.9 F\n",
      "converting Fahrenheit to Celsius\n",
      "15\n",
      "THIS IS THE ROW:  ['42740.46', '66', 'F']\n",
      "66 F\n",
      "converting Fahrenheit to Celsius\n",
      "19\n",
      "THIS IS THE ROW:  ['42740.50', '66', 'F']\n",
      "66 F\n",
      "converting Fahrenheit to Celsius\n",
      "19\n",
      "THIS IS THE ROW:  ['42740.54', '69.1', 'F']\n",
      "69.1 F\n",
      "converting Fahrenheit to Celsius\n",
      "21\n",
      "THIS IS THE ROW:  ['42740.58', '69.1', 'F']\n",
      "69.1 F\n",
      "converting Fahrenheit to Celsius\n",
      "21\n",
      "THIS IS THE ROW:  ['42740.63', '69.1', 'F']\n",
      "69.1 F\n",
      "converting Fahrenheit to Celsius\n",
      "21\n",
      "THIS IS THE ROW:  ['42740.67', '19.4', 'C']\n",
      "19.4 C\n",
      "converting Celsius to Fahrenheit\n",
      "67\n",
      "THIS IS THE ROW:  ['42740.71', '17.8', 'C']\n",
      "17.8 C\n",
      "converting Celsius to Fahrenheit\n",
      "64\n",
      "THIS IS THE ROW:  ['42740.75', '16.1', 'C']\n",
      "16.1 C\n",
      "converting Celsius to Fahrenheit\n",
      "61\n",
      "THIS IS THE ROW:  ['42740.79', '60.1', 'F']\n",
      "60.1 F\n",
      "converting Fahrenheit to Celsius\n",
      "16\n",
      "THIS IS THE ROW:  ['42740.83', '57', 'F']\n",
      "57 F\n",
      "converting Fahrenheit to Celsius\n",
      "14\n",
      "THIS IS THE ROW:  ['42740.88', '55', 'F']\n",
      "55 F\n",
      "converting Fahrenheit to Celsius\n",
      "13\n",
      "THIS IS THE ROW:  ['42740.92', '11.7', 'C']\n",
      "11.7 C\n",
      "converting Celsius to Fahrenheit\n",
      "53\n",
      "THIS IS THE ROW:  ['42740.96', '52', 'F']\n",
      "52 F\n",
      "converting Fahrenheit to Celsius\n",
      "11\n",
      "THIS IS THE ROW:  ['42741.00', '51.1', 'F']\n",
      "51.1 F\n",
      "converting Fahrenheit to Celsius\n",
      "11\n",
      "THIS IS THE ROW:  ['42741.04', '53.1', 'F']\n",
      "53.1 F\n",
      "converting Fahrenheit to Celsius\n",
      "12\n",
      "THIS IS THE ROW:  ['42741.08', '48.9', 'F']\n",
      "48.9 F\n",
      "converting Fahrenheit to Celsius\n",
      "10\n",
      "THIS IS THE ROW:  ['42741.13', '10', 'C']\n",
      "10 C\n",
      "converting Celsius to Fahrenheit\n",
      "50\n",
      "THIS IS THE ROW:  ['42741.17', '8.9', 'C']\n",
      "8.9 C\n",
      "converting Celsius to Fahrenheit\n",
      "48\n",
      "THIS IS THE ROW:  ['42741.21', '50', 'F']\n",
      "50 F\n",
      "converting Fahrenheit to Celsius\n",
      "10\n",
      "THIS IS THE ROW:  ['42741.25', '53.1', 'F']\n",
      "53.1 F\n",
      "converting Fahrenheit to Celsius\n",
      "12\n",
      "THIS IS THE ROW:  ['42741.29', '50', 'F']\n",
      "50 F\n",
      "converting Fahrenheit to Celsius\n",
      "10\n",
      "THIS IS THE ROW:  ['42741.33', '54', 'F']\n",
      "54 F\n",
      "converting Fahrenheit to Celsius\n",
      "13\n",
      "THIS IS THE ROW:  ['42741.38', '13.9', 'C']\n",
      "13.9 C\n",
      "converting Celsius to Fahrenheit\n",
      "57\n",
      "THIS IS THE ROW:  ['42741.42', '14.4', 'C']\n",
      "14.4 C\n",
      "converting Celsius to Fahrenheit\n",
      "58\n",
      "THIS IS THE ROW:  ['42741.46', '60.1', 'F']\n",
      "60.1 F\n",
      "converting Fahrenheit to Celsius\n",
      "16\n",
      "THIS IS THE ROW:  ['42741.50', '16.1', 'C']\n",
      "16.1 C\n",
      "converting Celsius to Fahrenheit\n",
      "61\n",
      "THIS IS THE ROW:  ['42741.54', '16.1', 'C']\n",
      "16.1 C\n",
      "converting Celsius to Fahrenheit\n",
      "61\n",
      "THIS IS THE ROW:  ['42741.58', '62.1', 'F']\n",
      "62.1 F\n",
      "converting Fahrenheit to Celsius\n",
      "17\n",
      "THIS IS THE ROW:  ['42741.63', '62.1', 'F']\n",
      "62.1 F\n",
      "converting Fahrenheit to Celsius\n",
      "17\n",
      "THIS IS THE ROW:  ['42741.67', '16.1', 'C']\n",
      "16.1 C\n",
      "converting Celsius to Fahrenheit\n",
      "61\n",
      "THIS IS THE ROW:  ['42741.71', '14.4', 'C']\n",
      "14.4 C\n",
      "converting Celsius to Fahrenheit\n",
      "58\n",
      "THIS IS THE ROW:  ['42741.75', '54', 'F']\n",
      "54 F\n",
      "converting Fahrenheit to Celsius\n",
      "13\n",
      "THIS IS THE ROW:  ['42741.79', '54', 'F']\n",
      "54 F\n",
      "converting Fahrenheit to Celsius\n",
      "13\n",
      "THIS IS THE ROW:  ['42741.83', '48.9', 'F']\n",
      "48.9 F\n",
      "converting Fahrenheit to Celsius\n",
      "10\n",
      "THIS IS THE ROW:  ['42741.88', '46.9', 'F']\n",
      "46.9 F\n",
      "converting Fahrenheit to Celsius\n",
      "9\n",
      "THIS IS THE ROW:  ['42741.92', '45', 'F']\n",
      "45 F\n",
      "converting Fahrenheit to Celsius\n",
      "8\n",
      "THIS IS THE ROW:  ['42741.96', '6.7', 'C']\n",
      "6.7 C\n",
      "converting Celsius to Fahrenheit\n",
      "44\n",
      "THIS IS THE ROW:  ['42742.00', '42.1', 'F']\n",
      "42.1 F\n",
      "converting Fahrenheit to Celsius\n",
      "6\n",
      "THIS IS THE ROW:  ['42742.04', '43', 'F']\n",
      "43 F\n",
      "converting Fahrenheit to Celsius\n",
      "6\n",
      "THIS IS THE ROW:  ['42742.08', '6.7', 'C']\n",
      "6.7 C\n",
      "converting Celsius to Fahrenheit\n",
      "44\n",
      "THIS IS THE ROW:  ['42742.13', '5.6', 'C']\n",
      "5.6 C\n",
      "converting Celsius to Fahrenheit\n",
      "42\n",
      "THIS IS THE ROW:  ['42742.17', '5.6', 'C']\n",
      "5.6 C\n",
      "converting Celsius to Fahrenheit\n",
      "42\n",
      "THIS IS THE ROW:  ['42742.21', '41', 'F']\n",
      "41 F\n",
      "converting Fahrenheit to Celsius\n",
      "5\n",
      "THIS IS THE ROW:  ['42742.25', '5', 'C']\n",
      "5 C\n",
      "converting Celsius to Fahrenheit\n",
      "41\n",
      "THIS IS THE ROW:  ['42742.29', '39', 'F']\n",
      "39 F\n",
      "converting Fahrenheit to Celsius\n",
      "4\n",
      "THIS IS THE ROW:  ['42742.33', '48.9', 'F']\n",
      "48.9 F\n",
      "converting Fahrenheit to Celsius\n",
      "10\n",
      "THIS IS THE ROW:  ['42742.38', '51.1', 'F']\n",
      "51.1 F\n",
      "converting Fahrenheit to Celsius\n",
      "11\n",
      "THIS IS THE ROW:  ['42742.42', '59', 'F']\n",
      "59 F\n",
      "converting Fahrenheit to Celsius\n",
      "15\n",
      "THIS IS THE ROW:  ['42742.46', '16.1', 'C']\n",
      "16.1 C\n",
      "converting Celsius to Fahrenheit\n",
      "61\n",
      "THIS IS THE ROW:  ['42742.50', '17.8', 'C']\n",
      "17.8 C\n",
      "converting Celsius to Fahrenheit\n",
      "64\n",
      "THIS IS THE ROW:  ['42742.54', '68', 'F']\n",
      "68 F\n",
      "converting Fahrenheit to Celsius\n",
      "20\n",
      "THIS IS THE ROW:  ['42742.58', '20', 'C']\n",
      "20 C\n",
      "converting Celsius to Fahrenheit\n",
      "68\n",
      "THIS IS THE ROW:  ['42742.63', '70', 'F']\n",
      "70 F\n",
      "converting Fahrenheit to Celsius\n",
      "21\n",
      "THIS IS THE ROW:  ['42742.67', '21.1', 'C']\n",
      "21.1 C\n",
      "converting Celsius to Fahrenheit\n",
      "70\n",
      "THIS IS THE ROW:  ['42742.71', '64.9', 'F']\n",
      "64.9 F\n",
      "converting Fahrenheit to Celsius\n",
      "19\n",
      "THIS IS THE ROW:  ['42742.75', '15.6', 'C']\n",
      "15.6 C\n",
      "converting Celsius to Fahrenheit\n",
      "60\n",
      "THIS IS THE ROW:  ['42742.79', '57.9', 'F']\n",
      "57.9 F\n",
      "converting Fahrenheit to Celsius\n",
      "15\n",
      "THIS IS THE ROW:  ['42742.83', '11.7', 'C']\n",
      "11.7 C\n",
      "converting Celsius to Fahrenheit\n",
      "53\n",
      "THIS IS THE ROW:  ['42742.88', '51.1', 'F']\n",
      "51.1 F\n",
      "converting Fahrenheit to Celsius\n",
      "11\n",
      "THIS IS THE ROW:  ['42742.92', '12.2', 'C']\n",
      "12.2 C\n",
      "converting Celsius to Fahrenheit\n",
      "54\n",
      "THIS IS THE ROW:  ['42742.96', '11.7', 'C']\n",
      "11.7 C\n",
      "converting Celsius to Fahrenheit\n",
      "53\n",
      "([], [])\n"
     ]
    }
   ],
   "source": [
    "def convert_file(file_name='data/LabTempHourly20170101_20170107.csv'):\n",
    "    '''\n",
    "    Takes a csv file and converts each temperature to F or C and saves\n",
    "    both F and C to as list to return.\n",
    "    >>> convert_file(file_name='data/test_file.csv')\n",
    "    ([-40.0, 32.0, 54.0], [-40.0, 0.0, 12.2])\n",
    "    '''\n",
    "    with open(file_name, 'r') as csvfile:\n",
    "        reader = csv.reader(csvfile)\n",
    "        temps_fahr = []\n",
    "        temps_celsius = []\n",
    "        temperature_col = 1\n",
    "        temp_type_col = 2\n",
    "        for row in reader:\n",
    "            print(\"THIS IS THE ROW: \", row)\n",
    "            if row[1] != \"Temp\": # We need to ignore the header row\n",
    "                temp = row[temperature_col]\n",
    "                temp_type = row[temp_type_col]\n",
    "                print(temp, temp_type)\n",
    "                # Do the conversion\n",
    "                out = convert_temp(float(temp), temp_type)\n",
    "                print(out)\n",
    "    return temps_fahr, temps_celsius\n",
    "\n",
    "print(convert_file())"
   ]
  },
  {
   "cell_type": "code",
   "execution_count": null,
   "metadata": {
    "collapsed": true
   },
   "outputs": [],
   "source": []
  },
  {
   "cell_type": "code",
   "execution_count": 98,
   "metadata": {
    "collapsed": false,
    "scrolled": true
   },
   "outputs": [
    {
     "name": "stdout",
     "output_type": "stream",
     "text": [
      "converting Celsius to Fahrenheit\n",
      "converting Celsius to Fahrenheit\n",
      "converting Celsius to Fahrenheit\n",
      "converting Celsius to Fahrenheit\n",
      "converting Celsius to Fahrenheit\n",
      "converting Celsius to Fahrenheit\n",
      "converting Celsius to Fahrenheit\n",
      "converting Celsius to Fahrenheit\n",
      "converting Celsius to Fahrenheit\n",
      "converting Celsius to Fahrenheit\n",
      "converting Celsius to Fahrenheit\n",
      "converting Celsius to Fahrenheit\n",
      "converting Celsius to Fahrenheit\n",
      "converting Celsius to Fahrenheit\n",
      "converting Celsius to Fahrenheit\n",
      "converting Celsius to Fahrenheit\n",
      "converting Celsius to Fahrenheit\n",
      "converting Celsius to Fahrenheit\n",
      "converting Celsius to Fahrenheit\n",
      "converting Celsius to Fahrenheit\n",
      "converting Celsius to Fahrenheit\n",
      "converting Celsius to Fahrenheit\n",
      "converting Celsius to Fahrenheit\n",
      "converting Celsius to Fahrenheit\n",
      "converting Celsius to Fahrenheit\n",
      "converting Celsius to Fahrenheit\n",
      "converting Celsius to Fahrenheit\n",
      "converting Celsius to Fahrenheit\n",
      "converting Celsius to Fahrenheit\n",
      "converting Celsius to Fahrenheit\n",
      "converting Celsius to Fahrenheit\n",
      "converting Celsius to Fahrenheit\n",
      "converting Celsius to Fahrenheit\n",
      "converting Celsius to Fahrenheit\n",
      "converting Celsius to Fahrenheit\n",
      "converting Celsius to Fahrenheit\n",
      "converting Celsius to Fahrenheit\n",
      "converting Celsius to Fahrenheit\n",
      "converting Celsius to Fahrenheit\n",
      "converting Celsius to Fahrenheit\n",
      "converting Celsius to Fahrenheit\n",
      "converting Celsius to Fahrenheit\n",
      "converting Celsius to Fahrenheit\n",
      "converting Celsius to Fahrenheit\n",
      "converting Celsius to Fahrenheit\n",
      "converting Celsius to Fahrenheit\n",
      "converting Celsius to Fahrenheit\n",
      "converting Celsius to Fahrenheit\n",
      "converting Celsius to Fahrenheit\n",
      "converting Celsius to Fahrenheit\n",
      "converting Celsius to Fahrenheit\n",
      "converting Celsius to Fahrenheit\n",
      "converting Celsius to Fahrenheit\n",
      "converting Celsius to Fahrenheit\n",
      "converting Celsius to Fahrenheit\n",
      "converting Celsius to Fahrenheit\n",
      "converting Celsius to Fahrenheit\n",
      "converting Celsius to Fahrenheit\n",
      "converting Celsius to Fahrenheit\n",
      "converting Celsius to Fahrenheit\n",
      "converting Celsius to Fahrenheit\n",
      "converting Celsius to Fahrenheit\n",
      "converting Celsius to Fahrenheit\n",
      "converting Celsius to Fahrenheit\n",
      "converting Celsius to Fahrenheit\n",
      "converting Celsius to Fahrenheit\n",
      "converting Celsius to Fahrenheit\n",
      "converting Celsius to Fahrenheit\n",
      "converting Celsius to Fahrenheit\n",
      "converting Celsius to Fahrenheit\n",
      "converting Celsius to Fahrenheit\n",
      "converting Celsius to Fahrenheit\n",
      "converting Celsius to Fahrenheit\n",
      "converting Celsius to Fahrenheit\n",
      "converting Celsius to Fahrenheit\n",
      "converting Celsius to Fahrenheit\n",
      "converting Celsius to Fahrenheit\n",
      "converting Celsius to Fahrenheit\n",
      "converting Celsius to Fahrenheit\n",
      "converting Celsius to Fahrenheit\n",
      "converting Celsius to Fahrenheit\n",
      "converting Celsius to Fahrenheit\n",
      "[54.0, 53, 53, 54, 55, 55.0, 55.0, 53, 53, 53.1, 45.0, 45, 46.0, 46.9, 50, 51, 50, 48.9, 48.9, 49, 47, 46, 45, 44.1, 43.0, 43.0, 43, 42, 42.1, 37, 38, 39, 43, 46, 48.0, 51, 55, 55.0, 55.9, 55.9, 55, 53, 51, 50.0, 51.1, 48.0, 48.0, 46, 45.0, 44.1, 41.0, 39.9, 41, 39.9, 39.9, 40, 43.0, 50, 53, 55.9, 59.0, 63, 63, 63.0, 62, 60.1, 57.9, 57, 57, 54.0, 53.1, 53.1, 51, 50.0, 52, 48.9, 48, 46, 44.1, 45, 48.0, 54, 57, 62, 66.0, 67, 68, 69.1, 66, 61, 59, 54, 52.0, 50.0, 48.9, 49, 46.9, 46.9, 46, 47, 45.0, 44.1, 45, 46, 48, 53, 57.9, 66.0, 66.0, 69.1, 69.1, 69.1, 67, 64, 61, 60.1, 57.0, 55.0, 53, 52.0, 51.1, 53.1, 48.9, 50, 48, 50.0, 53.1, 50.0, 54.0, 57, 58, 60.1, 61, 61, 62.1, 62.1, 61, 58, 54.0, 54.0, 48.9, 46.9, 45.0, 44, 42.1, 43.0, 44, 42, 42, 41.0, 41, 39.0, 48.9, 51.1, 59.0, 61, 64, 68.0, 68, 70.0, 70, 64.9, 60, 57.9, 53, 51.1, 54, 53]\n"
     ]
    }
   ],
   "source": [
    "def convert_file(file_name='data/LabTempHourly20170101_20170107.csv'):\n",
    "    '''\n",
    "    Takes a csv file and converts each temperature to F or C and saves\n",
    "    both F and C to as list to return.\n",
    "    >>> convert_file(file_name='data/test_file.csv')\n",
    "    ([-40.0, 32.0, 54.0], [-40.0, 0.0, 12.2])\n",
    "    '''\n",
    "    with open(file_name, 'r') as csvfile:\n",
    "        reader = csv.reader(csvfile)\n",
    "        temps_fahr = []\n",
    "        temps_celsius = []\n",
    "        temperature_col = 1\n",
    "        temp_type_col = 2\n",
    "        for row in reader:\n",
    "            # print(\"THIS IS THE ROW: \", row)\n",
    "            if row[1] != \"Temp\": # We need to ignore the header row\n",
    "                temp = row[temperature_col]\n",
    "                temp_type = row[temp_type_col]\n",
    "                # print(temp, temp_type)\n",
    "                # Do the conversion\n",
    "                if temp_type == \"C\":\n",
    "                    out = convert_temp(float(temp), temp_type)\n",
    "                    temps_fahr.append(out)\n",
    "                elif temp_type == \"F\":\n",
    "                    temps_fahr.append(float(temp))\n",
    "                        \n",
    "#                print(out)\n",
    "    return temps_fahr #, temps_celsius\n",
    "\n",
    "print(convert_file())"
   ]
  },
  {
   "cell_type": "code",
   "execution_count": 100,
   "metadata": {
    "collapsed": false
   },
   "outputs": [
    {
     "name": "stdout",
     "output_type": "stream",
     "text": [
      "converting Celsius to Fahrenheit\n",
      "converting Celsius to Fahrenheit\n",
      "converting Celsius to Fahrenheit\n",
      "converting Celsius to Fahrenheit\n",
      "converting Celsius to Fahrenheit\n",
      "converting Celsius to Fahrenheit\n",
      "converting Celsius to Fahrenheit\n",
      "converting Celsius to Fahrenheit\n",
      "converting Celsius to Fahrenheit\n",
      "converting Celsius to Fahrenheit\n",
      "converting Celsius to Fahrenheit\n",
      "converting Celsius to Fahrenheit\n",
      "converting Celsius to Fahrenheit\n",
      "converting Celsius to Fahrenheit\n",
      "converting Celsius to Fahrenheit\n",
      "converting Celsius to Fahrenheit\n",
      "converting Celsius to Fahrenheit\n",
      "converting Celsius to Fahrenheit\n",
      "converting Celsius to Fahrenheit\n",
      "converting Celsius to Fahrenheit\n",
      "converting Celsius to Fahrenheit\n",
      "converting Celsius to Fahrenheit\n",
      "converting Celsius to Fahrenheit\n",
      "converting Celsius to Fahrenheit\n",
      "converting Celsius to Fahrenheit\n",
      "converting Celsius to Fahrenheit\n",
      "converting Celsius to Fahrenheit\n",
      "converting Celsius to Fahrenheit\n",
      "converting Celsius to Fahrenheit\n",
      "converting Celsius to Fahrenheit\n",
      "converting Celsius to Fahrenheit\n",
      "converting Celsius to Fahrenheit\n",
      "converting Celsius to Fahrenheit\n",
      "converting Celsius to Fahrenheit\n",
      "converting Celsius to Fahrenheit\n",
      "converting Celsius to Fahrenheit\n",
      "converting Celsius to Fahrenheit\n",
      "converting Celsius to Fahrenheit\n",
      "converting Celsius to Fahrenheit\n",
      "converting Celsius to Fahrenheit\n",
      "converting Celsius to Fahrenheit\n",
      "converting Celsius to Fahrenheit\n",
      "converting Celsius to Fahrenheit\n",
      "converting Celsius to Fahrenheit\n",
      "converting Celsius to Fahrenheit\n",
      "converting Celsius to Fahrenheit\n",
      "converting Celsius to Fahrenheit\n",
      "converting Celsius to Fahrenheit\n",
      "converting Celsius to Fahrenheit\n",
      "converting Celsius to Fahrenheit\n",
      "converting Celsius to Fahrenheit\n",
      "converting Celsius to Fahrenheit\n",
      "converting Celsius to Fahrenheit\n",
      "converting Celsius to Fahrenheit\n",
      "converting Celsius to Fahrenheit\n",
      "converting Celsius to Fahrenheit\n",
      "converting Celsius to Fahrenheit\n",
      "converting Celsius to Fahrenheit\n",
      "converting Celsius to Fahrenheit\n",
      "converting Celsius to Fahrenheit\n",
      "converting Celsius to Fahrenheit\n",
      "converting Celsius to Fahrenheit\n",
      "converting Celsius to Fahrenheit\n",
      "converting Celsius to Fahrenheit\n",
      "converting Celsius to Fahrenheit\n",
      "converting Celsius to Fahrenheit\n",
      "converting Celsius to Fahrenheit\n",
      "converting Celsius to Fahrenheit\n",
      "converting Celsius to Fahrenheit\n",
      "converting Celsius to Fahrenheit\n",
      "converting Celsius to Fahrenheit\n",
      "converting Celsius to Fahrenheit\n",
      "converting Celsius to Fahrenheit\n",
      "converting Celsius to Fahrenheit\n",
      "converting Celsius to Fahrenheit\n",
      "converting Celsius to Fahrenheit\n",
      "converting Celsius to Fahrenheit\n",
      "converting Celsius to Fahrenheit\n",
      "converting Celsius to Fahrenheit\n",
      "converting Celsius to Fahrenheit\n",
      "converting Celsius to Fahrenheit\n",
      "converting Celsius to Fahrenheit\n",
      "MY MIN:  37\n",
      "MY MAX:  70.0\n"
     ]
    }
   ],
   "source": [
    "def convert_file(file_name='data/LabTempHourly20170101_20170107.csv'):\n",
    "    '''\n",
    "    Takes a csv file and converts each temperature to F or C and saves\n",
    "    both F and C to as list to return.\n",
    "    >>> convert_file(file_name='data/test_file.csv')\n",
    "    ([-40.0, 32.0, 54.0], [-40.0, 0.0, 12.2])\n",
    "    '''\n",
    "    with open(file_name, 'r') as csvfile:\n",
    "        reader = csv.reader(csvfile)\n",
    "        temps_fahr = []\n",
    "        temps_celsius = []\n",
    "        temperature_col = 1\n",
    "        temp_type_col = 2\n",
    "        for row in reader:\n",
    "            # print(\"THIS IS THE ROW: \", row)\n",
    "            if row[1] != \"Temp\": # We need to ignore the header row\n",
    "                temp = row[temperature_col]\n",
    "                temp_type = row[temp_type_col]\n",
    "                # print(temp, temp_type)\n",
    "                # Do the conversion\n",
    "                if temp_type == \"C\":\n",
    "                    out = convert_temp(float(temp), temp_type)\n",
    "                    temps_fahr.append(out)\n",
    "                elif temp_type == \"F\":\n",
    "                    temps_fahr.append(float(temp))\n",
    "                        \n",
    "#                print(out)\n",
    "    return temps_fahr #, temps_celsius\n",
    "\n",
    "converted = convert_file()\n",
    "print(\"MY MIN: \", min(converted))\n",
    "print(\"MY MAX: \", max(converted))"
   ]
  },
  {
   "cell_type": "markdown",
   "metadata": {
    "collapsed": true,
    "deletable": true,
    "editable": true
   },
   "source": [
    "##### COMMIT YOUR WORK"
   ]
  },
  {
   "cell_type": "markdown",
   "metadata": {
    "deletable": true,
    "editable": true
   },
   "source": [
    "**It turns out that the logger can only log 7 days at a time before dumping the data.**\n",
    "\n",
    "Use glob.glob to find sets of files whose names match a pattern\n",
    "* In Unix, the term “globbing” means “matching a set of files with a pattern”.\n",
    "* The most common patterns are:\n",
    "    * \\* meaning “match zero or more characters”\n",
    "    * ? meaning “match exactly one character”\n",
    "* Provided in Python by the glob library, which provides a function also called glob.\n",
    "* E.g., glob.glob('*.txt') matches all files in the current directory whose names end with .txt.\n",
    "* Result is a (possibly empty) list of character strings."
   ]
  },
  {
   "cell_type": "code",
   "execution_count": null,
   "metadata": {
    "collapsed": true,
    "deletable": true,
    "editable": true
   },
   "outputs": [],
   "source": [
    "import glob\n",
    "print('all csv files in data directory:', glob.glob('data/*.csv'))"
   ]
  },
  {
   "cell_type": "code",
   "execution_count": null,
   "metadata": {
    "collapsed": true,
    "deletable": true,
    "editable": true
   },
   "outputs": [],
   "source": [
    "print('all PDB files:', glob.glob('*.pdb'))"
   ]
  },
  {
   "cell_type": "markdown",
   "metadata": {
    "deletable": true,
    "editable": true
   },
   "source": [
    "Write a function that finds all of the files in a folder using glob and for to process batches of files.\n",
    "* Helps a lot if the files are named and stored systematically and consistently so that simple patterns will find the right data."
   ]
  },
  {
   "cell_type": "code",
   "execution_count": null,
   "metadata": {
    "collapsed": true,
    "deletable": true,
    "editable": true
   },
   "outputs": [],
   "source": [
    "def find_csvs(dir):\n",
    "    # write your documentation here\n",
    "    # write your function here"
   ]
  },
  {
   "cell_type": "markdown",
   "metadata": {},
   "source": [
    "Are all of those the right files? Maybe we want to exlude one? Adjust the glob statement to exlude unwanted files."
   ]
  },
  {
   "cell_type": "markdown",
   "metadata": {
    "deletable": true,
    "editable": true
   },
   "source": [
    "##### COMMIT YOUR WORK"
   ]
  },
  {
   "cell_type": "markdown",
   "metadata": {
    "deletable": true,
    "editable": true
   },
   "source": [
    "Now bring it together. Use the find_csvs function and the convert_file to get all of the temps for the month of January.\n",
    "\n",
    " _Hint, you can use extend(newlist) to add items of a list to another list._"
   ]
  },
  {
   "cell_type": "code",
   "execution_count": null,
   "metadata": {
    "collapsed": true,
    "deletable": true,
    "editable": true
   },
   "outputs": [],
   "source": [
    "def month_temps(dir):\n",
    "    # write your documentation here\n",
    "    # write your function here\n",
    "    return month_fahr, month_cels\n",
    "\n",
    "print(month_temps('data'))"
   ]
  },
  {
   "cell_type": "markdown",
   "metadata": {
    "deletable": true,
    "editable": true
   },
   "source": [
    "## Let's plot our temperatures!"
   ]
  },
  {
   "cell_type": "markdown",
   "metadata": {
    "deletable": true,
    "editable": true
   },
   "source": [
    "### matplotlib is the most widely used scientific plotting library in Python.\n",
    "* Commonly use a sub-library called matplotlib.pyplot.\n",
    "* The Jupyter Notebook will render plots inline if we ask it to using a “magic” command."
   ]
  },
  {
   "cell_type": "code",
   "execution_count": null,
   "metadata": {
    "collapsed": true,
    "deletable": true,
    "editable": true
   },
   "outputs": [],
   "source": [
    "%matplotlib inline\n",
    "import matplotlib.pyplot as plt"
   ]
  },
  {
   "cell_type": "markdown",
   "metadata": {
    "deletable": true,
    "editable": true
   },
   "source": [
    "Simple plots are then (fairly) simple to create."
   ]
  },
  {
   "cell_type": "code",
   "execution_count": null,
   "metadata": {
    "collapsed": false,
    "deletable": true,
    "editable": true,
    "scrolled": true
   },
   "outputs": [],
   "source": [
    "x = [1, 2, 3, 4, 5]\n",
    "y = [2, 4, 6, 8, 10]\n",
    "\n",
    "plt.plot(x, y)\n",
    "plt.xlabel('Numbers')\n",
    "plt.ylabel('Doubles')\n",
    "plt.legend(['Line'])"
   ]
  },
  {
   "cell_type": "markdown",
   "metadata": {
    "deletable": true,
    "editable": true
   },
   "source": [
    "Write the last function to plot the temperature in Fahrenheit or Celsius.\n",
    "\n",
    "_Hint: Use list(range(len(monthtemp)) for the x-axis_"
   ]
  },
  {
   "cell_type": "code",
   "execution_count": null,
   "metadata": {
    "collapsed": true,
    "deletable": true,
    "editable": true
   },
   "outputs": [],
   "source": [
    "# write your function here"
   ]
  },
  {
   "cell_type": "markdown",
   "metadata": {
    "deletable": true,
    "editable": true
   },
   "source": [
    "## Final Questions\n",
    "1. Is the experiment ruined? (If the temperature in the lab fell below -5 degrees Celsius all of the data is ruined.)\n",
    "2. Is the experiment ruined, because of the material that can not have a temperature greater than 80 degrees Fahrenheit?\n",
    "#### Extra\n",
    "3. Is the experiment ruined according to the first read of material? (If the temperature in the lab fell below 285 degrees Kelvin all of the data is ruined.)\n",
    "4. How could you adjust the above convert_file function to get the date information?\n",
    "    * Can you plot temperature vs datetime?"
   ]
  },
  {
   "cell_type": "code",
   "execution_count": null,
   "metadata": {
    "collapsed": true,
    "deletable": true,
    "editable": true
   },
   "outputs": [],
   "source": []
  }
 ],
 "metadata": {
  "kernelspec": {
   "display_name": "Python 3",
   "language": "python",
   "name": "python3"
  },
  "language_info": {
   "codemirror_mode": {
    "name": "ipython",
    "version": 3
   },
   "file_extension": ".py",
   "mimetype": "text/x-python",
   "name": "python",
   "nbconvert_exporter": "python",
   "pygments_lexer": "ipython3",
   "version": "3.6.0"
  }
 },
 "nbformat": 4,
 "nbformat_minor": 2
}
